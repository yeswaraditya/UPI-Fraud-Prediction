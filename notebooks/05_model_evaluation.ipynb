{
 "cells": [
  {
   "cell_type": "markdown",
   "metadata": {},
   "source": [
    "## Importing Libraries"
   ]
  },
  {
   "cell_type": "code",
   "execution_count": 1,
   "metadata": {},
   "outputs": [],
   "source": [
    "import pandas as pd\n",
    "import numpy as np\n",
    "import joblib\n",
    "import matplotlib.pyplot as plt\n",
    "import seaborn as sns\n",
    "from sklearn.metrics import accuracy_score, precision_score, recall_score, f1_score, roc_auc_score, confusion_matrix, classification_report"
   ]
  },
  {
   "cell_type": "markdown",
   "metadata": {},
   "source": [
    "### Loading Dataset"
   ]
  },
  {
   "cell_type": "code",
   "execution_count": null,
   "metadata": {},
   "outputs": [],
   "source": [
    "data = pd.read_csv(\"../data/processed/upi_fraud_dataset_clean.csv\")\n",
    "X = data.drop(columns=['FraudFlag'])\n",
    "y = data['FraudFlag']\n",
    "\n",
    "from sklearn.model_selection import train_test_split\n",
    "X_train, X_test, y_train, y_test = train_test_split(X, y, test_size=0.2, random_state=42, stratify=y)"
   ]
  },
  {
   "cell_type": "markdown",
   "metadata": {},
   "source": [
    "## Loading Pickled Models"
   ]
  },
  {
   "cell_type": "code",
   "execution_count": 3,
   "metadata": {},
   "outputs": [
    {
     "name": "stdout",
     "output_type": "stream",
     "text": [
      "\n",
      "🔹 Logistic Regression Evaluation\n",
      "Accuracy: 0.7774, Precision: 0.6234, Recall: 0.0886, F1-score: 0.1551, ROC-AUC: 0.6986\n",
      "\n",
      "Confusion Matrix:\n",
      "[[1778   29]\n",
      " [ 494   48]]\n",
      "\n",
      "Classification Report:\n",
      "              precision    recall  f1-score   support\n",
      "\n",
      "           0       0.78      0.98      0.87      1807\n",
      "           1       0.62      0.09      0.16       542\n",
      "\n",
      "    accuracy                           0.78      2349\n",
      "   macro avg       0.70      0.54      0.51      2349\n",
      "weighted avg       0.75      0.78      0.71      2349\n",
      "\n",
      "\n",
      "🔹 Decision Tree Evaluation\n",
      "Accuracy: 0.7935, Precision: 0.5476, Recall: 0.6052, F1-score: 0.5749, ROC-AUC: 0.7276\n",
      "\n",
      "Confusion Matrix:\n",
      "[[1536  271]\n",
      " [ 214  328]]\n",
      "\n",
      "Classification Report:\n",
      "              precision    recall  f1-score   support\n",
      "\n",
      "           0       0.88      0.85      0.86      1807\n",
      "           1       0.55      0.61      0.57       542\n",
      "\n",
      "    accuracy                           0.79      2349\n",
      "   macro avg       0.71      0.73      0.72      2349\n",
      "weighted avg       0.80      0.79      0.80      2349\n",
      "\n",
      "\n",
      "🔹 Random Forest Evaluation\n",
      "Accuracy: 0.8736, Precision: 0.9842, Recall: 0.4594, F1-score: 0.6264, ROC-AUC: 0.8826\n",
      "\n",
      "Confusion Matrix:\n",
      "[[1803    4]\n",
      " [ 293  249]]\n",
      "\n",
      "Classification Report:\n",
      "              precision    recall  f1-score   support\n",
      "\n",
      "           0       0.86      1.00      0.92      1807\n",
      "           1       0.98      0.46      0.63       542\n",
      "\n",
      "    accuracy                           0.87      2349\n",
      "   macro avg       0.92      0.73      0.78      2349\n",
      "weighted avg       0.89      0.87      0.86      2349\n",
      "\n",
      "\n",
      "🔹 Gradient Boosting Evaluation\n",
      "Accuracy: 0.9017, Precision: 1.0000, Recall: 0.5738, F1-score: 0.7292, ROC-AUC: 0.8246\n",
      "\n",
      "Confusion Matrix:\n",
      "[[1807    0]\n",
      " [ 231  311]]\n",
      "\n",
      "Classification Report:\n",
      "              precision    recall  f1-score   support\n",
      "\n",
      "           0       0.89      1.00      0.94      1807\n",
      "           1       1.00      0.57      0.73       542\n",
      "\n",
      "    accuracy                           0.90      2349\n",
      "   macro avg       0.94      0.79      0.83      2349\n",
      "weighted avg       0.91      0.90      0.89      2349\n",
      "\n",
      "\n",
      "🔹 Support Vector Machine Evaluation\n",
      "Accuracy: 0.8416, Precision: 0.8320, Recall: 0.3930, F1-score: 0.5338, ROC-AUC: 0.8186\n",
      "\n",
      "Confusion Matrix:\n",
      "[[1764   43]\n",
      " [ 329  213]]\n",
      "\n",
      "Classification Report:\n",
      "              precision    recall  f1-score   support\n",
      "\n",
      "           0       0.84      0.98      0.90      1807\n",
      "           1       0.83      0.39      0.53       542\n",
      "\n",
      "    accuracy                           0.84      2349\n",
      "   macro avg       0.84      0.68      0.72      2349\n",
      "weighted avg       0.84      0.84      0.82      2349\n",
      "\n",
      "\n",
      "🔹 K-Nearest Neighbors Evaluation\n",
      "Accuracy: 0.7820, Precision: 0.5202, Recall: 0.7140, F1-score: 0.6019, ROC-AUC: 0.8292\n",
      "\n",
      "Confusion Matrix:\n",
      "[[1450  357]\n",
      " [ 155  387]]\n",
      "\n",
      "Classification Report:\n",
      "              precision    recall  f1-score   support\n",
      "\n",
      "           0       0.90      0.80      0.85      1807\n",
      "           1       0.52      0.71      0.60       542\n",
      "\n",
      "    accuracy                           0.78      2349\n",
      "   macro avg       0.71      0.76      0.73      2349\n",
      "weighted avg       0.81      0.78      0.79      2349\n",
      "\n",
      "\n",
      "🔹 Xgboost Evaluation\n",
      "Accuracy: 0.9115, Precision: 0.9771, Recall: 0.6310, F1-score: 0.7668, ROC-AUC: 0.8489\n",
      "\n",
      "Confusion Matrix:\n",
      "[[1799    8]\n",
      " [ 200  342]]\n",
      "\n",
      "Classification Report:\n",
      "              precision    recall  f1-score   support\n",
      "\n",
      "           0       0.90      1.00      0.95      1807\n",
      "           1       0.98      0.63      0.77       542\n",
      "\n",
      "    accuracy                           0.91      2349\n",
      "   macro avg       0.94      0.81      0.86      2349\n",
      "weighted avg       0.92      0.91      0.90      2349\n",
      "\n",
      "\n",
      "🔹 Lightgbm Evaluation\n",
      "Accuracy: 0.9119, Precision: 0.9970, Recall: 0.6199, F1-score: 0.7645, ROC-AUC: 0.8277\n",
      "\n",
      "Confusion Matrix:\n",
      "[[1806    1]\n",
      " [ 206  336]]\n",
      "\n",
      "Classification Report:\n",
      "              precision    recall  f1-score   support\n",
      "\n",
      "           0       0.90      1.00      0.95      1807\n",
      "           1       1.00      0.62      0.76       542\n",
      "\n",
      "    accuracy                           0.91      2349\n",
      "   macro avg       0.95      0.81      0.86      2349\n",
      "weighted avg       0.92      0.91      0.90      2349\n",
      "\n",
      "\n",
      "🔹 Catboost Evaluation\n",
      "Accuracy: 0.9153, Precision: 1.0000, Recall: 0.6328, F1-score: 0.7751, ROC-AUC: 0.8334\n",
      "\n",
      "Confusion Matrix:\n",
      "[[1807    0]\n",
      " [ 199  343]]\n",
      "\n",
      "Classification Report:\n",
      "              precision    recall  f1-score   support\n",
      "\n",
      "           0       0.90      1.00      0.95      1807\n",
      "           1       1.00      0.63      0.78       542\n",
      "\n",
      "    accuracy                           0.92      2349\n",
      "   macro avg       0.95      0.82      0.86      2349\n",
      "weighted avg       0.92      0.92      0.91      2349\n",
      "\n"
     ]
    }
   ],
   "source": [
    "model_names = [\n",
    "    \"logistic_regression\",\n",
    "    \"decision_tree\",\n",
    "    \"random_forest\",\n",
    "    \"gradient_boosting\",\n",
    "    \"support_vector_machine\",\n",
    "    \"k-nearest_neighbors\",\n",
    "    \"xgboost\",\n",
    "    \"lightgbm\",\n",
    "    \"catboost\"\n",
    "]\n",
    "\n",
    "results = []\n",
    "\n",
    "for model_name in model_names:\n",
    "    model_path = f\"../models/{model_name}.pkl\"\n",
    "    model = joblib.load(model_path)\n",
    "    \n",
    "    # Predictions\n",
    "    y_pred = model.predict(X_test)\n",
    "    y_prob = model.predict_proba(X_test)[:, 1] if hasattr(model, \"predict_proba\") else None\n",
    "\n",
    "    # Metrics\n",
    "    accuracy = accuracy_score(y_test, y_pred)\n",
    "    precision = precision_score(y_test, y_pred)\n",
    "    recall = recall_score(y_test, y_pred)\n",
    "    f1 = f1_score(y_test, y_pred)\n",
    "    roc_auc = roc_auc_score(y_test, y_prob) if y_prob is not None else None\n",
    "\n",
    "    results.append([model_name, accuracy, precision, recall, f1, roc_auc])\n",
    "\n",
    "    # Print Model Performance\n",
    "    print(f\"\\n🔹 {model_name.replace('_', ' ').title()} Evaluation\")\n",
    "    print(f\"Accuracy: {accuracy:.4f}, Precision: {precision:.4f}, Recall: {recall:.4f}, F1-score: {f1:.4f}, ROC-AUC: {roc_auc:.4f}\")\n",
    "    print(\"\\nConfusion Matrix:\")\n",
    "    print(confusion_matrix(y_test, y_pred))\n",
    "    print(\"\\nClassification Report:\")\n",
    "    print(classification_report(y_test, y_pred))"
   ]
  },
  {
   "cell_type": "markdown",
   "metadata": {},
   "source": [
    "## Comparison"
   ]
  },
  {
   "cell_type": "code",
   "execution_count": 7,
   "metadata": {},
   "outputs": [
    {
     "name": "stdout",
     "output_type": "stream",
     "text": [
      "\n",
      "Model Performance Summary:\n",
      "                     Model  Accuracy  Precision    Recall  F1-score   ROC-AUC\n",
      "8                catboost  0.915283   1.000000  0.632841  0.775141  0.833445\n",
      "7                lightgbm  0.911877   0.997033  0.619926  0.764505  0.827659\n",
      "6                 xgboost  0.911452   0.977143  0.630996  0.766816  0.848882\n",
      "3       gradient_boosting  0.901660   1.000000  0.573801  0.729191  0.824563\n",
      "2           random_forest  0.873563   0.984190  0.459410  0.626415  0.882608\n",
      "4  support_vector_machine  0.841635   0.832031  0.392989  0.533835  0.818582\n",
      "1           decision_tree  0.793529   0.547579  0.605166  0.574934  0.727597\n",
      "5     k-nearest_neighbors  0.782035   0.520161  0.714022  0.601866  0.829211\n",
      "0     logistic_regression  0.777352   0.623377  0.088561  0.155089  0.698613\n"
     ]
    },
    {
     "data": {
      "image/png": "[encoded data removed]",
      "text/plain": [
       "<Figure size 1200x600 with 1 Axes>"
      ]
     },
     "metadata": {},
     "output_type": "display_data"
    }
   ],
   "source": [
    "results_df = pd.DataFrame(results, columns=[\"Model\", \"Accuracy\", \"Precision\", \"Recall\", \"F1-score\", \"ROC-AUC\"])\n",
    "\n",
    "results_df.sort_values(by=\"Accuracy\", ascending=False, inplace=True)\n",
    "\n",
    "print(\"\\nModel Performance Summary:\\n\", results_df)\n",
    "\n",
    "results_df.to_csv(\"../reports/model_evaluation.csv\", index=False)\n",
    "\n",
    "plt.figure(figsize=(12, 6))\n",
    "sns.barplot(x=\"Model\", y=\"Accuracy\", data=results_df, palette=\"viridis\")\n",
    "plt.xticks(rotation=45)\n",
    "plt.title(\"Model Accuracy Comparison\")\n",
    "plt.show()"
   ]
  },
  {
   "cell_type": "markdown",
   "metadata": {},
   "source": [
    "## Loading Best Model"
   ]
  },
  {
   "cell_type": "code",
   "execution_count": 8,
   "metadata": {},
   "outputs": [
    {
     "name": "stdout",
     "output_type": "stream",
     "text": [
      "Best Model Selected: Catboost\n"
     ]
    },
    {
     "data": {
      "text/plain": [
       "['../models/best_model.pkl']"
      ]
     },
     "execution_count": 8,
     "metadata": {},
     "output_type": "execute_result"
    }
   ],
   "source": [
    "best_model_name = results_df.iloc[0][\"Model\"]\n",
    "best_model = joblib.load(f\"../models/{best_model_name}.pkl\")\n",
    "\n",
    "print(f\"Best Model Selected: {best_model_name.replace('_', ' ').title()}\")\n",
    "\n",
    "joblib.dump(best_model, \"../models/best_model.pkl\")"
   ]
  }
 ],
 "metadata": {
  "kernelspec": {
   "display_name": "base",
   "language": "python",
   "name": "python3"
  },
  "language_info": {
   "codemirror_mode": {
    "name": "ipython",
    "version": 3
   },
   "file_extension": ".py",
   "mimetype": "text/x-python",
   "name": "python",
   "nbconvert_exporter": "python",
   "pygments_lexer": "ipython3",
   "version": "3.11.7"
  }
 },
 "nbformat": 4,
 "nbformat_minor": 2
}
