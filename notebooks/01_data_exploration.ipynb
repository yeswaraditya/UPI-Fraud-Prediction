{
 "cells": [
  {
   "cell_type": "markdown",
   "metadata": {},
   "source": [
    "## Importing Libraries"
   ]
  },
  {
   "cell_type": "code",
   "execution_count": 76,
   "metadata": {},
   "outputs": [],
   "source": [
    "import pandas as pd\n",
    "import numpy as np\n",
    "import matplotlib.pyplot as plt\n",
    "import seaborn as sns"
   ]
  },
  {
   "cell_type": "markdown",
   "metadata": {},
   "source": [
    "## Load Dataset"
   ]
  },
  {
   "cell_type": "code",
   "execution_count": 77,
   "metadata": {},
   "outputs": [
    {
     "name": "stdout",
     "output_type": "stream",
     "text": [
      "<class 'pandas.core.frame.DataFrame'>\n",
      "RangeIndex: 10000 entries, 0 to 9999\n",
      "Data columns (total 19 columns):\n",
      " #   Column                Non-Null Count  Dtype  \n",
      "---  ------                --------------  -----  \n",
      " 0   TransactionID         10000 non-null  int64  \n",
      " 1   UserID                10000 non-null  object \n",
      " 2   Amount                10000 non-null  float64\n",
      " 3   Timestamp             10000 non-null  object \n",
      " 4   MerchantCategory      10000 non-null  object \n",
      " 5   TransactionType       10000 non-null  object \n",
      " 6   DeviceID              10000 non-null  object \n",
      " 7   IPAddress             10000 non-null  object \n",
      " 8   Latitude              10000 non-null  float64\n",
      " 9   Longitude             10000 non-null  float64\n",
      " 10  AvgTransactionAmount  10000 non-null  float64\n",
      " 11  TransactionFrequency  10000 non-null  object \n",
      " 12  UnusualLocation       10000 non-null  bool   \n",
      " 13  UnusualAmount         10000 non-null  bool   \n",
      " 14  NewDevice             10000 non-null  bool   \n",
      " 15  FailedAttempts        10000 non-null  int64  \n",
      " 16  FraudFlag             10000 non-null  bool   \n",
      " 17  PhoneNumber           10000 non-null  int64  \n",
      " 18  BankName              10000 non-null  object \n",
      "dtypes: bool(4), float64(4), int64(3), object(8)\n",
      "memory usage: 1.2+ MB\n",
      "None\n"
     ]
    }
   ],
   "source": [
    "data = pd.read_csv('../data/raw/upi_fraud_dataset_raw.csv')\n",
    "print(data.info())"
   ]
  },
  {
   "cell_type": "markdown",
   "metadata": {},
   "source": [
    "## Check for Missing Values"
   ]
  },
  {
   "cell_type": "code",
   "execution_count": 78,
   "metadata": {},
   "outputs": [],
   "source": [
    "print(data.isnull().sum())"
   ]
  },
  {
   "cell_type": "markdown",
   "metadata": {},
   "source": [
    "## Summary statistics for numerical features"
   ]
  },
  {
   "cell_type": "code",
   "execution_count": 79,
   "metadata": {},
   "outputs": [],
   "source": [
    "print(data.describe())"
   ]
  },
  {
   "cell_type": "markdown",
   "metadata": {},
   "source": [
    "## Distribution of the target variable (FraudFlag)"
   ]
  },
  {
   "cell_type": "code",
   "execution_count": 80,
   "metadata": {},
   "outputs": [],
   "source": [
    "if 'FraudFlag' in data.columns:\n",
    "    print(\"\\nDistribution of FraudFlag:\")\n",
    "    print(data['FraudFlag'].value_counts())\n",
    "\n",
    "    plt.figure(figsize=(4, 4))\n",
    "    sns.countplot(x='FraudFlag', data=data)\n",
    "    plt.title('Distribution of FraudFlag (0 = Legitimate, 1 = Fraud)')\n",
    "    plt.show()"
   ]
  },
  {
   "cell_type": "markdown",
   "metadata": {},
   "source": [
    "## Correlation matrix for numerical features"
   ]
  },
  {
   "cell_type": "code",
   "execution_count": 81,
   "metadata": {},
   "outputs": [],
   "source": [
    "numerical_features = data.select_dtypes(include=[np.number]).columns\n",
    "if len(numerical_features) > 1:\n",
    "    plt.figure(figsize=(4, 3))\n",
    "    corr_matrix = data[numerical_features].corr()\n",
    "    sns.heatmap(corr_matrix, annot=True, cmap='coolwarm', fmt='.2f')\n",
    "    plt.title('Correlation Matrix')\n",
    "    plt.show()"
   ]
  },
  {
   "cell_type": "markdown",
   "metadata": {},
   "source": [
    "## Distribution of transaction amounts"
   ]
  },
  {
   "cell_type": "code",
   "execution_count": 82,
   "metadata": {},
   "outputs": [],
   "source": [
    "plt.figure(figsize=(7, 4))\n",
    "sns.histplot(data[\"Amount\"], bins=50, kde=True, color=\"blue\")\n",
    "plt.title(\"Distribution of Transaction Amounts\")\n",
    "plt.xlabel(\"Transaction Amount\")\n",
    "plt.ylabel(\"Frequency\")\n",
    "plt.show()"
   ]
  },
  {
   "cell_type": "markdown",
   "metadata": {},
   "source": [
    "## Outlier Detection in Transaction"
   ]
  },
  {
   "cell_type": "code",
   "execution_count": 83,
   "metadata": {},
   "outputs": [],
   "source": [
    "plt.figure(figsize=(7, 4))\n",
    "sns.boxplot(x=data[\"Amount\"], color=\"red\")\n",
    "plt.title(\"Outlier Detection in Transaction Amounts\")\n",
    "plt.show()"
   ]
  },
  {
   "cell_type": "markdown",
   "metadata": {},
   "source": [
    "## Count of transactions by TransactionType"
   ]
  },
  {
   "cell_type": "code",
   "execution_count": 84,
   "metadata": {},
   "outputs": [],
   "source": [
    "plt.figure(figsize=(8, 5))\n",
    "sns.countplot(x=\"TransactionType\", data=data)\n",
    "plt.title(\"Transaction Type Distribution\")\n",
    "plt.xlabel(\"Transaction Type\")\n",
    "plt.ylabel(\"Count\")\n",
    "plt.show()"
   ]
  },
  {
   "cell_type": "markdown",
   "metadata": {},
   "source": [
    "## Count of transactions by MerchantCategory"
   ]
  },
  {
   "cell_type": "code",
   "execution_count": 85,
   "metadata": {},
   "outputs": [],
   "source": [
    "plt.figure(figsize=(12, 5))\n",
    "sns.countplot(\n",
    "    y=\"MerchantCategory\",\n",
    "    data=data,\n",
    "    order=data[\"MerchantCategory\"].value_counts().index,\n",
    "    hue=\"MerchantCategory\",\n",
    "    palette=\"viridis\",\n",
    "    legend=False\n",
    ")\n",
    "plt.title(\"Transactions by Merchant Category\")\n",
    "plt.xlabel(\"Count\")\n",
    "plt.ylabel(\"Merchant Category\")\n",
    "plt.show()\n"
   ]
  },
  {
   "cell_type": "markdown",
   "metadata": {},
   "source": [
    "## Distribution of transactions over time"
   ]
  },
  {
   "cell_type": "code",
   "execution_count": 86,
   "metadata": {},
   "outputs": [],
   "source": [
    "if 'Timestamp' in data.columns:\n",
    "    data['Timestamp'] = pd.to_datetime(data['Timestamp'])\n",
    "    data['Hour'] = data['Timestamp'].dt.hour\n",
    "    data['DayOfWeek'] = data['Timestamp'].dt.day_name()\n",
    "\n",
    "    # Transactions by hour\n",
    "    plt.figure(figsize=(6, 4))\n",
    "    sns.countplot(x='Hour', hue='Hour', data=data, palette='Set3', legend=False)\n",
    "    plt.title('Transactions by Hour of the Day')\n",
    "    plt.xlabel('Hour')\n",
    "    plt.ylabel('Count')\n",
    "    plt.show()\n",
    "\n",
    "    # Transactions by day of the week\n",
    "    plt.figure(figsize=(7, 4))\n",
    "    sns.countplot(x='DayOfWeek', hue='DayOfWeek', data=data, \n",
    "                  order=['Monday', 'Tuesday', 'Wednesday', 'Thursday', 'Friday', 'Saturday', 'Sunday'], \n",
    "                  palette='Set1', legend=False)\n",
    "    plt.title('Transactions by Day of the Week')\n",
    "    plt.xlabel('Day of the Week')\n",
    "    plt.ylabel('Count')\n",
    "    plt.show()\n"
   ]
  }
 ],
 "metadata": {
  "kernelspec": {
   "display_name": "base",
   "language": "python",
   "name": "python3"
  },
  "language_info": {
   "codemirror_mode": {
    "name": "ipython",
    "version": 3
   },
   "file_extension": ".py",
   "mimetype": "text/x-python",
   "name": "python",
   "nbconvert_exporter": "python",
   "pygments_lexer": "ipython3",
   "version": "3.12.7"
  }
 },
 "nbformat": 4,
 "nbformat_minor": 2
}
